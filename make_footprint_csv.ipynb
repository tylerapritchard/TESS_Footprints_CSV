{
 "cells": [
  {
   "cell_type": "markdown",
   "id": "557f6523",
   "metadata": {},
   "source": [
    "# This notebook will:\n",
    " - create a pixel 'footprint' of a TESS CCD, tracing around the outer pixels\n",
    " - using tesspoint (tess_stars2px.py), create a list of tess ra, dec from the footprint for a given sector/camera/ccd\n",
    " - using a list of sectors/cameras/ccd's, iterate over all possibilities\n",
    " - write this to a file"
   ]
  },
  {
   "cell_type": "code",
   "execution_count": 1,
   "id": "349b86d4",
   "metadata": {},
   "outputs": [],
   "source": [
    "%load_ext autoreload\n",
    "%autoreload 2\n",
    "import pandas as pd\n",
    "import subprocess\n",
    "import multiprocessing\n",
    "from itertools import product\n",
    "\n",
    "import matplotlib.pyplot as plt\n",
    "import numpy as np"
   ]
  },
  {
   "cell_type": "markdown",
   "id": "20aff195",
   "metadata": {},
   "source": [
    "# First, we generate the footprint for a TESS CCD\n",
    " - TESS CCD's are 2048 x 2048, indexed from 0-2047\n",
    " - For this case, I've chosen the footprint to trace the CENTER of the outer pixel of the TESS CCD\n",
    " - Therefore our four corners should be:  \n",
    "```\n",
    "    (0.5, 2047.5)------------(2047.5, 2047.5)  \n",
    "        |                             |  \n",
    "        |                             |  \n",
    "        |                             |  \n",
    "        |                             |  \n",
    "        |                             |  \n",
    "    (0.5, 0.5)-----------------(2047.5, 0.5)  \n",
    "```\n",
    "\n"
   ]
  },
  {
   "cell_type": "code",
   "execution_count": 2,
   "id": "eefb37a6",
   "metadata": {},
   "outputs": [],
   "source": [
    "def footprint(npoints=20):\n",
    "    \"\"\"Gets the column and row points for CCD edges\"\"\"\n",
    "    column = np.hstack(\n",
    "        [\n",
    "            np.ones(npoints)*0.5,\n",
    "            np.linspace(0.5, 2047.5, npoints),\n",
    "            np.linspace(0.5, 2047.5, npoints),\n",
    "            np.ones(npoints) * 2047.5,\n",
    "        ]\n",
    "    )\n",
    "    row = np.hstack(\n",
    "        [\n",
    "            np.linspace(0.5, 2047.5, npoints),\n",
    "            np.ones(npoints)*0.5,\n",
    "            np.ones(npoints) * 2047.5,\n",
    "            np.linspace(0.5, 2047.5, npoints),\n",
    "        ]\n",
    "    )\n",
    "    return np.vstack([column, row]).T"
   ]
  },
  {
   "cell_type": "code",
   "execution_count": 12,
   "id": "929a9f34",
   "metadata": {},
   "outputs": [
    {
     "data": {
      "text/plain": [
       "<matplotlib.collections.PathCollection at 0x16a41bcd0>"
      ]
     },
     "execution_count": 12,
     "metadata": {},
     "output_type": "execute_result"
    },
    {
     "data": {
      "image/png": "[encoded data removed]",
      "text/plain": [
       "<Figure size 640x480 with 1 Axes>"
      ]
     },
     "metadata": {},
     "output_type": "display_data"
    }
   ],
   "source": [
    "footie=footprint()\n",
    "plt.scatter(footie[:,0],footie[:,1])"
   ]
  },
  {
   "cell_type": "markdown",
   "id": "161829c7",
   "metadata": {},
   "source": [
    "# We'll take this footprint and x,y -> ra, eec for each sector/camera/ccd\n",
    "Using tesspoint (tess_stars2px.py), we can only do this for a single point and iterate.  To speed this up we'll use multiprocessing/pool.  The functions defined here (footprint and multi_create_footie_df) and dependencies are in a separate file to enable this since pool doesn't recognize functions from jupyter cells well.  \n",
    "\n",
    "In the future this will be unescessary and the vectorized tess-point can do this calculation on a whole footprint trivially.  "
   ]
  },
  {
   "cell_type": "code",
   "execution_count": 7,
   "id": "0de3f5f7",
   "metadata": {},
   "outputs": [],
   "source": [
    "def multi_create_footie_df(SectorCameraCCD):\n",
    "    Sector, Camera, CCD = SectorCameraCCD\n",
    "    xy=footprint()\n",
    "    tic=range(len(xy[:,0]))\n",
    "    ra=[]\n",
    "    dec=[]\n",
    "    \n",
    "    for tic, x, y in zip(tic, xy[:,0], xy[:,1]):\n",
    "        point=subprocess.run([\"python\",\"/Users/tapritc2/tessgi/tesspoint/tess-point/tess_stars2px.py\",\n",
    "                        \"-r\",str(Sector),str(Camera),str(CCD),str(x),str(y)],capture_output=True,text=True)\n",
    "        ra.append(float(point.stdout.split(' ')[0]))\n",
    "        dec.append(float(point.stdout.split(' ')[1]))\n",
    "    \n",
    "    footie_df=pd.DataFrame(data={'id':tic, 'ra':ra, 'dec':dec, 'col':xy[:,0],'row':xy[:,1],\n",
    "                        'sector':Sector,'camera':Camera,'ccd':CCD})\n",
    "    return footie_df\n",
    "\n",
    "from testfun import multi_create_footie_df, footprint\n",
    "# the tessfun.py file has the import subprocess/pandas/numpy and \n",
    "# footprint and multi_create_footie_df functions defined here inside of it\n",
    "# multiprocess doesn't work well with funcitons defined in notebooks\n",
    "# couldn't get the tess_stars2px.py reverse function to work without\n",
    "# iterating through each point indivudally, so.  "
   ]
  },
  {
   "cell_type": "markdown",
   "id": "450222d9",
   "metadata": {},
   "source": [
    "# We'll define our ranges here:"
   ]
  },
  {
   "cell_type": "code",
   "execution_count": 8,
   "id": "1caf24de",
   "metadata": {},
   "outputs": [],
   "source": [
    "Camera_list=[1,2,3,4]\n",
    "CCD_list=[1,2,3,4]\n",
    "Sector_list = range(1,69)\n",
    "inlist=list(product(Sector_list,Camera_list,CCD_list))"
   ]
  },
  {
   "cell_type": "markdown",
   "id": "49a9a6b5",
   "metadata": {},
   "source": [
    "# And execute the multiprocessing here:"
   ]
  },
  {
   "cell_type": "code",
   "execution_count": 9,
   "id": "9e31c344",
   "metadata": {},
   "outputs": [],
   "source": [
    "from multiprocessing.pool import Pool\n",
    "pool=Pool()\n",
    "comb_df=pd.DataFrame(data={'id':[], 'ra':[], 'dec':[], 'col':[],'row':[],\n",
    "                        'sector':[],'camera':[],'ccd':[]})\n",
    "for result in pool.map(multi_create_footie_df, inlist):\n",
    "    comb_df=pd.concat([comb_df, result])\n",
    "pool.close()"
   ]
  },
  {
   "cell_type": "markdown",
   "id": "21c6c711",
   "metadata": {},
   "source": [
    "# File saved to:"
   ]
  },
  {
   "cell_type": "code",
   "execution_count": 10,
   "id": "e791a450",
   "metadata": {},
   "outputs": [],
   "source": [
    "comb_df.to_csv('TESSFootprint_SectorCameraCCD.csv')"
   ]
  },
  {
   "cell_type": "code",
   "execution_count": null,
   "id": "1b9f73a1",
   "metadata": {},
   "outputs": [],
   "source": []
  }
 ],
 "metadata": {
  "kernelspec": {
   "display_name": "Python 3 (ipykernel)",
   "language": "python",
   "name": "python3"
  },
  "language_info": {
   "codemirror_mode": {
    "name": "ipython",
    "version": 3
   },
   "file_extension": ".py",
   "mimetype": "text/x-python",
   "name": "python",
   "nbconvert_exporter": "python",
   "pygments_lexer": "ipython3",
   "version": "3.10.10"
  }
 },
 "nbformat": 4,
 "nbformat_minor": 5
}
